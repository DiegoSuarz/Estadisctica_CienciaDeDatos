{
 "cells": [
  {
   "cell_type": "markdown",
   "metadata": {},
   "source": [
    "VARIABLES "
   ]
  },
  {
   "cell_type": "markdown",
   "metadata": {},
   "source": [
    "para comentar lineas de codigo: ctrol + k +c\n",
    "\n",
    "para descomentar lineas de codigo: ctrol + k + u"
   ]
  },
  {
   "cell_type": "code",
   "execution_count": 1,
   "metadata": {},
   "outputs": [
    {
     "name": "stdout",
     "output_type": "stream",
     "text": [
      "hola\n"
     ]
    },
    {
     "data": {
      "text/plain": [
       "str"
      ]
     },
     "execution_count": 1,
     "metadata": {},
     "output_type": "execute_result"
    }
   ],
   "source": [
    "x = 'hola'\n",
    "print(x)\n",
    "type(x)"
   ]
  },
  {
   "cell_type": "code",
   "execution_count": 2,
   "metadata": {},
   "outputs": [
    {
     "name": "stdout",
     "output_type": "stream",
     "text": [
      "hola mundo\n"
     ]
    }
   ],
   "source": [
    "print(\"hola mundo\")"
   ]
  },
  {
   "cell_type": "code",
   "execution_count": 3,
   "metadata": {},
   "outputs": [
    {
     "name": "stdout",
     "output_type": "stream",
     "text": [
      "True\n"
     ]
    },
    {
     "data": {
      "text/plain": [
       "bool"
      ]
     },
     "execution_count": 3,
     "metadata": {},
     "output_type": "execute_result"
    }
   ],
   "source": [
    "es_estudiante = True\n",
    "print(es_estudiante)\n",
    "type(es_estudiante)"
   ]
  },
  {
   "cell_type": "code",
   "execution_count": 9,
   "metadata": {},
   "outputs": [
    {
     "name": "stdout",
     "output_type": "stream",
     "text": [
      "Edad:  30 Tipo de dato:  <class 'int'>\n",
      "Altura:  1.75 |Tipo de dato:  <class 'float'>\n"
     ]
    }
   ],
   "source": [
    "edad = 30\n",
    "altura = 1.75\n",
    "print('Edad: ',edad,'Tipo de dato: ',type(edad))\n",
    "print('Altura: ',altura,'|Tipo de dato: ',type(altura))"
   ]
  },
  {
   "cell_type": "code",
   "execution_count": 10,
   "metadata": {},
   "outputs": [
    {
     "name": "stdout",
     "output_type": "stream",
     "text": [
      "Juan\n"
     ]
    },
    {
     "data": {
      "text/plain": [
       "str"
      ]
     },
     "execution_count": 10,
     "metadata": {},
     "output_type": "execute_result"
    }
   ],
   "source": [
    "nombre =\"Juan\"\n",
    "print(nombre)\n",
    "type(nombre)"
   ]
  },
  {
   "cell_type": "code",
   "execution_count": 11,
   "metadata": {},
   "outputs": [
    {
     "name": "stdout",
     "output_type": "stream",
     "text": [
      "<class 'list'>\n"
     ]
    },
    {
     "data": {
      "text/plain": [
       "3"
      ]
     },
     "execution_count": 11,
     "metadata": {},
     "output_type": "execute_result"
    }
   ],
   "source": [
    "lista = [1,2,3]\n",
    "print(list)\n",
    "lista[2]"
   ]
  },
  {
   "cell_type": "code",
   "execution_count": 13,
   "metadata": {},
   "outputs": [
    {
     "name": "stdout",
     "output_type": "stream",
     "text": [
      "[1, 2, 3]\n",
      "['b', 'hola', 'mundo']\n",
      "['b', 2, 'a']\n",
      "[None, 'hola', 'mundo']\n"
     ]
    }
   ],
   "source": [
    "lista2 = ['b','hola','mundo']\n",
    "lista3 = ['b',2,'a']\n",
    "lista4 = [None,'hola','mundo']\n",
    "\n",
    "print(lista)\n",
    "print(lista2)\n",
    "print(lista3)\n",
    "print(lista4) "
   ]
  },
  {
   "cell_type": "code",
   "execution_count": 17,
   "metadata": {},
   "outputs": [
    {
     "data": {
      "text/plain": [
       "dict_values(['valor', 'giron', 'ricardo palma', 29])"
      ]
     },
     "execution_count": 17,
     "metadata": {},
     "output_type": "execute_result"
    }
   ],
   "source": [
    "diccionario = {'clave':'valor','omar':'giron','universidad':'ricardo palma','edad':29}\n",
    "diccionario\n",
    "diccionario.keys()\n",
    "diccionario.values()"
   ]
  },
  {
   "cell_type": "markdown",
   "metadata": {},
   "source": [
    "Esctructua condicional y bucles:"
   ]
  },
  {
   "cell_type": "code",
   "execution_count": 18,
   "metadata": {},
   "outputs": [
    {
     "name": "stdout",
     "output_type": "stream",
     "text": [
      "x es positivo\n"
     ]
    }
   ],
   "source": [
    "#Estructura condicional simple\n",
    "x = 10\n",
    "if x > 0:\n",
    "    print(\"x es positivo\")\n",
    "else:\n",
    "    print(\"x es negativo\")"
   ]
  },
  {
   "cell_type": "code",
   "execution_count": 19,
   "metadata": {},
   "outputs": [
    {
     "name": "stdout",
     "output_type": "stream",
     "text": [
      "x es cero\n"
     ]
    }
   ],
   "source": [
    "#Estructura condicional compuesta\n",
    "x = 0\n",
    "if x > 0:\n",
    "    print(\"x es positivo\")\n",
    "elif x == 0:\n",
    "    print(\"x es cero\")\n",
    "else:\n",
    "    print(\"x  es negativo\")"
   ]
  },
  {
   "cell_type": "markdown",
   "metadata": {},
   "source": [
    "BUCLES:"
   ]
  },
  {
   "cell_type": "code",
   "execution_count": 20,
   "metadata": {},
   "outputs": [
    {
     "name": "stdout",
     "output_type": "stream",
     "text": [
      "> 0\n",
      "> 1\n",
      "> 2\n",
      "> 3\n",
      "> 4\n"
     ]
    }
   ],
   "source": [
    "#Bucle for\n",
    "for i in [0,1,2,3,4]:\n",
    "    print('>',i)"
   ]
  },
  {
   "cell_type": "code",
   "execution_count": 21,
   "metadata": {},
   "outputs": [
    {
     "name": "stdout",
     "output_type": "stream",
     "text": [
      "> 0\n",
      "> 1\n",
      "> 2\n",
      "> 3\n",
      "> 4\n"
     ]
    }
   ],
   "source": [
    "for i in list(range(5)): \n",
    "    print('>',i)"
   ]
  },
  {
   "cell_type": "code",
   "execution_count": 22,
   "metadata": {},
   "outputs": [
    {
     "name": "stdout",
     "output_type": "stream",
     "text": [
      "> 0\n",
      "> 1\n",
      "> 2\n",
      "> 3\n",
      "> 4\n"
     ]
    }
   ],
   "source": [
    "#Bucle while:\n",
    "contador = 0\n",
    "while contador < 5:\n",
    "    print('>',contador)\n",
    "    contador += 1"
   ]
  },
  {
   "cell_type": "code",
   "execution_count": 2,
   "metadata": {},
   "outputs": [
    {
     "name": "stdout",
     "output_type": "stream",
     "text": [
      "< 0\n",
      "< 1\n",
      "< 2\n",
      "< 3\n",
      "< 4\n"
     ]
    }
   ],
   "source": [
    "contador = 0\n",
    "while contador < 5:\n",
    "    print('<',contador)\n",
    "    contador  += 1"
   ]
  },
  {
   "cell_type": "code",
   "execution_count": null,
   "metadata": {},
   "outputs": [],
   "source": []
  },
  {
   "cell_type": "code",
   "execution_count": null,
   "metadata": {},
   "outputs": [],
   "source": []
  },
  {
   "cell_type": "code",
   "execution_count": null,
   "metadata": {},
   "outputs": [],
   "source": []
  },
  {
   "cell_type": "code",
   "execution_count": null,
   "metadata": {},
   "outputs": [],
   "source": []
  }
 ],
 "metadata": {
  "kernelspec": {
   "display_name": "Python 3",
   "language": "python",
   "name": "python3"
  },
  "language_info": {
   "codemirror_mode": {
    "name": "ipython",
    "version": 3
   },
   "file_extension": ".py",
   "mimetype": "text/x-python",
   "name": "python",
   "nbconvert_exporter": "python",
   "pygments_lexer": "ipython3",
   "version": "3.12.2"
  }
 },
 "nbformat": 4,
 "nbformat_minor": 2
}
