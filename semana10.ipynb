{
  "cells": [
    {
      "cell_type": "markdown",
      "metadata": {
        "id": "XtoJKuiZbtVH"
      },
      "source": [
        "<img width=\"300px\" src=\"https://cachimbo.pe/wp-content/uploads/2022/10/1-19.jpg\"></img>\n",
        "\n",
        "#**Estadística con Python**\n",
        "## **Tema: Estadística No Paramétrica y Datos Desbalanceados**\n",
        "#### **Docente: Giron Rene Omar A.**\n",
        "\n",
        "---------------"
      ]
    },
    {
      "cell_type": "markdown",
      "metadata": {
        "id": "PFyiMwrrpA-y"
      },
      "source": [
        "# Prueba de hipótesis No Paramétricas"
      ]
    },
    {
      "cell_type": "markdown",
      "metadata": {
        "id": "Fk2saFW3b24N"
      },
      "source": [
        "## Para una muestra\n",
        "\n",
        "Queremos comprobar si la mediana de los tiempos de reacción de un grupo de personas es diferente de 300 ms.\n"
      ]
    },
    {
      "cell_type": "code",
      "execution_count": 2,
      "metadata": {},
      "outputs": [
        {
          "name": "stdout",
          "output_type": "stream",
          "text": [
            "Requirement already satisfied: scipy in c:\\users\\dg_su\\appdata\\local\\programs\\python\\python312\\lib\\site-packages (1.12.0)\n",
            "Requirement already satisfied: numpy<1.29.0,>=1.22.4 in c:\\users\\dg_su\\appdata\\local\\programs\\python\\python312\\lib\\site-packages (from scipy) (1.26.4)\n",
            "Note: you may need to restart the kernel to use updated packages.\n"
          ]
        }
      ],
      "source": [
        "pip install scipy\n"
      ]
    },
    {
      "cell_type": "code",
      "execution_count": 3,
      "metadata": {},
      "outputs": [
        {
          "name": "stdout",
          "output_type": "stream",
          "text": [
            "Requirement already satisfied: pip in c:\\users\\dg_su\\appdata\\local\\programs\\python\\python312\\lib\\site-packages (24.1.2)\n",
            "Note: you may need to restart the kernel to use updated packages.\n"
          ]
        }
      ],
      "source": [
        "pip install --upgrade pip"
      ]
    },
    {
      "cell_type": "code",
      "execution_count": 4,
      "metadata": {
        "id": "6BGnLKntboIW"
      },
      "outputs": [
        {
          "name": "stdout",
          "output_type": "stream",
          "text": [
            "Prueba de signos p-valor: BinomTestResult(k=5, n=9, alternative='two-sided', statistic=0.5555555555555556, pvalue=1.0)\n",
            "No rechazamos la hipótesis nula: no hay evidencia suficiente para decir que la mediana es diferente de 300 ms.\n"
          ]
        }
      ],
      "source": [
        "import numpy as np\n",
        "from scipy.stats import binomtest\n",
        "\n",
        "# Datos de tiempos de reacción (en ms)\n",
        "data = np.array([310, 295, 305, 298, 300, 302, 308, 299, 297, 301])\n",
        "\n",
        "# Hipótesis nula: la mediana es 300 ms\n",
        "median_test_value = 300\n",
        "signs = np.sign(data - median_test_value)\n",
        "n_positive = np.sum(signs > 0)\n",
        "n_negative = np.sum(signs < 0)\n",
        "\n",
        "# Realizar la prueba de signos\n",
        "p_value = binomtest(n_positive, n_positive + n_negative, 0.5)\n",
        "print(f\"Prueba de signos p-valor: {p_value}\")\n",
        "\n",
        "# Regla de decisión\n",
        "alpha = 0.05  # Nivel de significancia\n",
        "if p_value.pvalue < alpha:\n",
        "    print(\"Rechazamos la hipótesis nula: la mediana es significativamente diferente de 300 ms.\")\n",
        "else:\n",
        "    print(\"No rechazamos la hipótesis nula: no hay evidencia suficiente para decir que la mediana es diferente de 300 ms.\")\n"
      ]
    },
    {
      "cell_type": "markdown",
      "metadata": {
        "id": "l0tYAY4ub6Fn"
      },
      "source": [
        "## Para dos muestras\n",
        "\n",
        "Queremos comparar los tiempos de reacción de dos grupos independientes de personas (grupo A y grupo B).[texto del enlace](https://)"
      ]
    },
    {
      "cell_type": "code",
      "execution_count": 5,
      "metadata": {
        "id": "QRmpB3yFb66d"
      },
      "outputs": [
        {
          "name": "stdout",
          "output_type": "stream",
          "text": [
            "Prueba de Mann-Whitney p-valor: 1.0\n",
            "No rechazamos la hipótesis nula: no hay una diferencia significativa entre los dos grupos.\n"
          ]
        }
      ],
      "source": [
        "import numpy as np\n",
        "from scipy.stats import mannwhitneyu\n",
        "\n",
        "# Datos de tiempos de reacción (en ms) para dos grupos\n",
        "grupo_a = np.array([310, 295, 305, 298, 300])\n",
        "grupo_b = np.array([302, 308, 299, 297, 301])\n",
        "\n",
        "# Realizar la prueba de Mann-Whitney\n",
        "stat, p_value = mannwhitneyu(grupo_a, grupo_b)\n",
        "print(f\"Prueba de Mann-Whitney p-valor: {p_value}\")\n",
        "\n",
        "# Regla de decisión\n",
        "alpha = 0.05  # Nivel de significancia\n",
        "if p_value < alpha:\n",
        "    print(\"Rechazamos la hipótesis nula: hay una diferencia significativa entre los dos grupos.\")\n",
        "else:\n",
        "    print(\"No rechazamos la hipótesis nula: no hay una diferencia significativa entre los dos grupos.\")"
      ]
    },
    {
      "cell_type": "markdown",
      "metadata": {
        "id": "Nv94CqEdb-43"
      },
      "source": [
        "Queremos comparar los tiempos de reacción antes y después de un tratamiento en el mismo grupo de personas."
      ]
    },
    {
      "cell_type": "code",
      "execution_count": 6,
      "metadata": {
        "id": "drRkFQN-b64B"
      },
      "outputs": [
        {
          "name": "stdout",
          "output_type": "stream",
          "text": [
            "Prueba de Wilcoxon p-valor: 0.625\n",
            "No rechazamos la hipótesis nula: no hay una diferencia significativa entre los tiempos de reacción antes y después del tratamiento.\n"
          ]
        }
      ],
      "source": [
        "import numpy as np\n",
        "from scipy.stats import wilcoxon\n",
        "\n",
        "# Datos de tiempos de reacción antes y después del tratamiento\n",
        "antes = np.array([310, 295, 305, 298, 300])\n",
        "despues = np.array([305, 290, 310, 300, 295])\n",
        "\n",
        "# Realizar la prueba de Wilcoxon\n",
        "stat, p_value = wilcoxon(antes, despues)\n",
        "print(f\"Prueba de Wilcoxon p-valor: {p_value}\")\n",
        "\n",
        "# Regla de decisión\n",
        "alpha = 0.05  # Nivel de significancia\n",
        "if p_value < alpha:\n",
        "    print(\"Rechazamos la hipótesis nula: hay una diferencia significativa entre los tiempos de reacción antes y después del tratamiento.\")\n",
        "else:\n",
        "    print(\"No rechazamos la hipótesis nula: no hay una diferencia significativa entre los tiempos de reacción antes y después del tratamiento.\")\n"
      ]
    },
    {
      "cell_type": "markdown",
      "metadata": {
        "id": "n5EVEsalcEB8"
      },
      "source": [
        "## Para más de dos muestras\n",
        "\n",
        "Queremos comparar los tiempos de reacción de tres grupos independientes de personas (grupo A, grupo B y grupo C)."
      ]
    },
    {
      "cell_type": "code",
      "execution_count": 7,
      "metadata": {
        "id": "w1YYyVZgb61_"
      },
      "outputs": [
        {
          "name": "stdout",
          "output_type": "stream",
          "text": [
            "Prueba de Kruskal-Wallis p-valor: 0.9924609943783124\n",
            "No rechazamos la hipótesis nula: no hay una diferencia significativa entre los grupos.\n"
          ]
        }
      ],
      "source": [
        "import numpy as np\n",
        "from scipy.stats import kruskal\n",
        "\n",
        "# Datos de tiempos de reacción (en ms) para tres grupos\n",
        "grupo_a = np.array([310, 295, 305, 298, 300])\n",
        "grupo_b = np.array([302, 308, 299, 297, 301])\n",
        "grupo_c = np.array([300, 310, 295, 305, 298])\n",
        "\n",
        "# Realizar la prueba de Kruskal-Wallis\n",
        "stat, p_value = kruskal(grupo_a, grupo_b, grupo_c)\n",
        "print(f\"Prueba de Kruskal-Wallis p-valor: {p_value}\")\n",
        "\n",
        "# Regla de decisión\n",
        "alpha = 0.05  # Nivel de significancia\n",
        "if p_value < alpha:\n",
        "    print(\"Rechazamos la hipótesis nula: hay una diferencia significativa entre los grupos.\")\n",
        "else:\n",
        "    print(\"No rechazamos la hipótesis nula: no hay una diferencia significativa entre los grupos.\")\n"
      ]
    },
    {
      "cell_type": "markdown",
      "metadata": {
        "id": "hVS5MMXecKTI"
      },
      "source": [
        "Queremos comparar los tiempos de reacción en tres condiciones diferentes (condición 1, condición 2 y condición 3) en el mismo grupo de personas."
      ]
    },
    {
      "cell_type": "code",
      "execution_count": 8,
      "metadata": {
        "id": "W2luFTE1b6zl"
      },
      "outputs": [
        {
          "name": "stdout",
          "output_type": "stream",
          "text": [
            "Prueba de Friedman p-valor: 0.8187307530779795\n",
            "No rechazamos la hipótesis nula: no hay una diferencia significativa entre los grupos.\n"
          ]
        }
      ],
      "source": [
        "from scipy.stats import friedmanchisquare\n",
        "\n",
        "# Datos de tiempos de reacción (en ms) en tres condiciones diferentes\n",
        "condicion_1 = np.array([310, 295, 305, 298, 300])\n",
        "condicion_2 = np.array([302, 308, 299, 297, 301])\n",
        "condicion_3 = np.array([300, 310, 295, 305, 298])\n",
        "\n",
        "# Realizar la prueba de Friedman\n",
        "stat, p_value = friedmanchisquare(condicion_1, condicion_2, condicion_3)\n",
        "print(f\"Prueba de Friedman p-valor: {p_value}\")\n",
        "\n",
        "# Regla de decisión\n",
        "alpha = 0.05  # Nivel de significancia\n",
        "if p_value < alpha:\n",
        "    print(\"Rechazamos la hipótesis nula: hay una diferencia significativa entre los grupos.\")\n",
        "else:\n",
        "    print(\"No rechazamos la hipótesis nula: no hay una diferencia significativa entre los grupos.\")"
      ]
    },
    {
      "cell_type": "markdown",
      "metadata": {
        "id": "FSr4c9PVpW_y"
      },
      "source": [
        "# Datos Desbalanceados"
      ]
    },
    {
      "cell_type": "markdown",
      "metadata": {
        "id": "-QYXLO44paM4"
      },
      "source": [
        "## UNDERSAMPLING"
      ]
    },
    {
      "cell_type": "code",
      "execution_count": 9,
      "metadata": {},
      "outputs": [
        {
          "name": "stdout",
          "output_type": "stream",
          "text": [
            "Requirement already satisfied: imblearn in c:\\users\\dg_su\\appdata\\local\\programs\\python\\python312\\lib\\site-packages (0.0)Note: you may need to restart the kernel to use updated packages.\n",
            "\n",
            "Requirement already satisfied: imbalanced-learn in c:\\users\\dg_su\\appdata\\local\\programs\\python\\python312\\lib\\site-packages (from imblearn) (0.12.3)\n",
            "Requirement already satisfied: numpy>=1.17.3 in c:\\users\\dg_su\\appdata\\local\\programs\\python\\python312\\lib\\site-packages (from imbalanced-learn->imblearn) (1.26.4)\n",
            "Requirement already satisfied: scipy>=1.5.0 in c:\\users\\dg_su\\appdata\\local\\programs\\python\\python312\\lib\\site-packages (from imbalanced-learn->imblearn) (1.12.0)\n",
            "Requirement already satisfied: scikit-learn>=1.0.2 in c:\\users\\dg_su\\appdata\\local\\programs\\python\\python312\\lib\\site-packages (from imbalanced-learn->imblearn) (1.4.1.post1)\n",
            "Requirement already satisfied: joblib>=1.1.1 in c:\\users\\dg_su\\appdata\\local\\programs\\python\\python312\\lib\\site-packages (from imbalanced-learn->imblearn) (1.3.2)\n",
            "Requirement already satisfied: threadpoolctl>=2.0.0 in c:\\users\\dg_su\\appdata\\local\\programs\\python\\python312\\lib\\site-packages (from imbalanced-learn->imblearn) (3.3.0)\n"
          ]
        }
      ],
      "source": [
        "pip install imblearn\n"
      ]
    },
    {
      "cell_type": "code",
      "execution_count": 17,
      "metadata": {
        "id": "tqi8Kz98PYaG"
      },
      "outputs": [
        {
          "name": "stdout",
          "output_type": "stream",
          "text": [
            "Distribución original: Counter({0: 623, 1: 77})\n",
            "Distribución original: Counter({0: 277, 1: 23})\n"
          ]
        }
      ],
      "source": [
        "import numpy as np\n",
        "from sklearn.datasets import make_classification\n",
        "from sklearn.model_selection import train_test_split\n",
        "from imblearn.under_sampling import RandomUnderSampler\n",
        "from imblearn.over_sampling import RandomOverSampler, SMOTE\n",
        "from collections import Counter\n",
        "\n",
        "# Crear un conjunto de datos desbalanceado, generar datos aleatorios desbalanceados\n",
        "X, y = make_classification(n_samples=1000, n_classes=2, weights=[0.9, 0.1],\n",
        "                           n_informative=3, n_redundant=1, flip_y=0,\n",
        "                           n_features=20, n_clusters_per_class=1,\n",
        "                           n_repeated=0, random_state=42)\n",
        "\n",
        "# Dividir en conjuntos de entrenamiento y prueba\n",
        "X_train, X_test, y_train, y_test = train_test_split(X, y, test_size=0.3, random_state=42)\n",
        "\n",
        "print(\"Distribución original:\", Counter(y_train))\n",
        "print(\"Distribución original:\", Counter(y_test))"
      ]
    },
    {
      "cell_type": "markdown",
      "metadata": {},
      "source": [
        "## UNDERSAMPLING"
      ]
    },
    {
      "cell_type": "code",
      "execution_count": 11,
      "metadata": {
        "id": "5zuNMcCIpcvg"
      },
      "outputs": [
        {
          "name": "stdout",
          "output_type": "stream",
          "text": [
            "original dataset shape: Counter({0: 623, 1: 77})\n",
            "Resample dataset shape Counter({0: 77, 1: 77})\n"
          ]
        }
      ],
      "source": [
        "from collections import Counter\n",
        "from imblearn.under_sampling import RandomUnderSampler\n",
        "\n",
        "rus = RandomUnderSampler(random_state=42, replacement=True)# fit predictor and target variable\n",
        "x_rus, y_rus = rus.fit_resample(X_train, y_train)\n",
        "\n",
        "print('original dataset shape:', Counter(y_train))\n",
        "print('Resample dataset shape', Counter(y_rus))"
      ]
    },
    {
      "cell_type": "markdown",
      "metadata": {
        "id": "T8_uDwHgpenI"
      },
      "source": [
        "## OVERSAMPLING"
      ]
    },
    {
      "cell_type": "code",
      "execution_count": 12,
      "metadata": {
        "id": "9bPSkB9XpfdP"
      },
      "outputs": [
        {
          "name": "stdout",
          "output_type": "stream",
          "text": [
            "Original dataset shape Counter({0: 623, 1: 77})\n",
            "Resample dataset shape Counter({0: 623, 1: 623})\n"
          ]
        }
      ],
      "source": [
        "from imblearn.over_sampling import RandomOverSampler\n",
        "\n",
        "ros = RandomOverSampler(random_state=42)\n",
        "\n",
        "# fit predictor and target variablex_ros,\n",
        "x_ros, y_ros = ros.fit_resample(X_train, y_train)\n",
        "\n",
        "print('Original dataset shape', Counter(y_train))\n",
        "print('Resample dataset shape', Counter(y_ros))"
      ]
    },
    {
      "cell_type": "markdown",
      "metadata": {
        "id": "UNYHCaWSpj1b"
      },
      "source": [
        "## SMOTE"
      ]
    },
    {
      "cell_type": "code",
      "execution_count": 18,
      "metadata": {
        "id": "ndcFPS0Lpf_w"
      },
      "outputs": [
        {
          "name": "stdout",
          "output_type": "stream",
          "text": [
            "Original dataset shape Counter({0: 623, 1: 77})\n",
            "Resample dataset shape Counter({0: 623, 1: 623})\n",
            "original dataset shape: Counter({0: 277, 1: 23})\n"
          ]
        }
      ],
      "source": [
        "# import library\n",
        "from imblearn.over_sampling import SMOTE\n",
        "\n",
        "smote = SMOTE(random_state=42)\n",
        "\n",
        "# fit predictor and target variable\n",
        "x_smote, y_smote = smote.fit_resample(X_train, y_train)\n",
        "\n",
        "print('Original dataset shape', Counter(y_train))\n",
        "print('Resample dataset shape', Counter(y_smote))\n",
        "\n",
        "print('original dataset shape:', Counter(y_test))\n",
        "#print('Resample dataset shape', Counter(y_rus))\n"
      ]
    }
  ],
  "metadata": {
    "colab": {
      "provenance": []
    },
    "kernelspec": {
      "display_name": "Python 3",
      "name": "python3"
    },
    "language_info": {
      "codemirror_mode": {
        "name": "ipython",
        "version": 3
      },
      "file_extension": ".py",
      "mimetype": "text/x-python",
      "name": "python",
      "nbconvert_exporter": "python",
      "pygments_lexer": "ipython3",
      "version": "3.12.2"
    }
  },
  "nbformat": 4,
  "nbformat_minor": 0
}
